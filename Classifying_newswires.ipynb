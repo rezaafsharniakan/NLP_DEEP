{
  "nbformat": 4,
  "nbformat_minor": 0,
  "metadata": {
    "colab": {
      "provenance": [],
      "authorship_tag": "ABX9TyPEHLZ0CNVzNrjBSPZjvJg1",
      "include_colab_link": true
    },
    "kernelspec": {
      "name": "python3",
      "display_name": "Python 3"
    },
    "language_info": {
      "name": "python"
    }
  },
  "cells": [
    {
      "cell_type": "markdown",
      "metadata": {
        "id": "view-in-github",
        "colab_type": "text"
      },
      "source": [
        "<a href=\"https://colab.research.google.com/github/rezaafsharniakan/NLP_DEEP/blob/main/Classifying_newswires.ipynb\" target=\"_parent\"><img src=\"https://colab.research.google.com/assets/colab-badge.svg\" alt=\"Open In Colab\"/></a>"
      ]
    },
    {
      "cell_type": "code",
      "execution_count": 1,
      "metadata": {
        "colab": {
          "base_uri": "https://localhost:8080/"
        },
        "id": "XhDa7r1OV-ms",
        "outputId": "393876c9-0cbe-43fe-b9bd-036b70eb3de0"
      },
      "outputs": [
        {
          "output_type": "stream",
          "name": "stdout",
          "text": [
            "Downloading data from https://storage.googleapis.com/tensorflow/tf-keras-datasets/reuters.npz\n",
            "2110848/2110848 [==============================] - 0s 0us/step\n"
          ]
        }
      ],
      "source": [
        "from tensorflow.keras.datasets import reuters\n",
        "(train_data, train_labels), (test_data, test_labels) = reuters.load_data(num_words=10000)"
      ]
    },
    {
      "cell_type": "code",
      "source": [
        "len(train_data)"
      ],
      "metadata": {
        "colab": {
          "base_uri": "https://localhost:8080/"
        },
        "id": "6IynkdC9Wei3",
        "outputId": "ae0cc657-8319-4ee2-881e-761068c1528b"
      },
      "execution_count": 2,
      "outputs": [
        {
          "output_type": "execute_result",
          "data": {
            "text/plain": [
              "8982"
            ]
          },
          "metadata": {},
          "execution_count": 2
        }
      ]
    },
    {
      "cell_type": "code",
      "source": [
        "len(test_data)"
      ],
      "metadata": {
        "colab": {
          "base_uri": "https://localhost:8080/"
        },
        "id": "iLW9p5gdWfly",
        "outputId": "84dafcdc-6069-48e6-c4b7-2be5bb099f12"
      },
      "execution_count": 3,
      "outputs": [
        {
          "output_type": "execute_result",
          "data": {
            "text/plain": [
              "2246"
            ]
          },
          "metadata": {},
          "execution_count": 3
        }
      ]
    },
    {
      "cell_type": "code",
      "source": [
        "train_data[10]"
      ],
      "metadata": {
        "colab": {
          "base_uri": "https://localhost:8080/"
        },
        "id": "8kE4IpwKWkpL",
        "outputId": "995fe163-8b17-4efd-9597-7445b6d88132"
      },
      "execution_count": 4,
      "outputs": [
        {
          "output_type": "execute_result",
          "data": {
            "text/plain": [
              "[1,\n",
              " 245,\n",
              " 273,\n",
              " 207,\n",
              " 156,\n",
              " 53,\n",
              " 74,\n",
              " 160,\n",
              " 26,\n",
              " 14,\n",
              " 46,\n",
              " 296,\n",
              " 26,\n",
              " 39,\n",
              " 74,\n",
              " 2979,\n",
              " 3554,\n",
              " 14,\n",
              " 46,\n",
              " 4689,\n",
              " 4329,\n",
              " 86,\n",
              " 61,\n",
              " 3499,\n",
              " 4795,\n",
              " 14,\n",
              " 61,\n",
              " 451,\n",
              " 4329,\n",
              " 17,\n",
              " 12]"
            ]
          },
          "metadata": {},
          "execution_count": 4
        }
      ]
    },
    {
      "cell_type": "code",
      "source": [
        "word_index = reuters.get_word_index()\n",
        "reverse_word_index = dict(\n",
        "  [(value, key) for (key, value) in word_index.items()])\n",
        "decoded_newswire = \" \".join(\n",
        "  [reverse_word_index.get(i - 3, \"?\") for i in train_data[0]])"
      ],
      "metadata": {
        "colab": {
          "base_uri": "https://localhost:8080/"
        },
        "id": "XRWqjfy9WsSG",
        "outputId": "553a38e4-dd75-45dc-ce96-d7e77b4509a2"
      },
      "execution_count": 5,
      "outputs": [
        {
          "output_type": "stream",
          "name": "stdout",
          "text": [
            "Downloading data from https://storage.googleapis.com/tensorflow/tf-keras-datasets/reuters_word_index.json\n",
            "550378/550378 [==============================] - 0s 0us/step\n"
          ]
        }
      ]
    },
    {
      "cell_type": "code",
      "source": [
        "decoded_newswire"
      ],
      "metadata": {
        "colab": {
          "base_uri": "https://localhost:8080/",
          "height": 70
        },
        "id": "R0e_ijJCW_O-",
        "outputId": "2e174db8-789f-42d5-d872-63c3aaeec7a9"
      },
      "execution_count": 6,
      "outputs": [
        {
          "output_type": "execute_result",
          "data": {
            "text/plain": [
              "'? ? ? said as a result of its december acquisition of space co it expects earnings per share in 1987 of 1 15 to 1 30 dlrs per share up from 70 cts in 1986 the company said pretax net should rise to nine to 10 mln dlrs from six mln dlrs in 1986 and rental operation revenues to 19 to 22 mln dlrs from 12 5 mln dlrs it said cash flow per share this year should be 2 50 to three dlrs reuter 3'"
            ],
            "application/vnd.google.colaboratory.intrinsic+json": {
              "type": "string"
            }
          },
          "metadata": {},
          "execution_count": 6
        }
      ]
    },
    {
      "cell_type": "code",
      "source": [
        "train_labels[10]"
      ],
      "metadata": {
        "colab": {
          "base_uri": "https://localhost:8080/"
        },
        "id": "y9xMBcn3XHZt",
        "outputId": "2eee50d8-f070-41d9-cc19-c9f59013cec4"
      },
      "execution_count": 7,
      "outputs": [
        {
          "output_type": "execute_result",
          "data": {
            "text/plain": [
              "3"
            ]
          },
          "metadata": {},
          "execution_count": 7
        }
      ]
    },
    {
      "cell_type": "code",
      "source": [
        "import numpy as np\n",
        "def vectorize_sequences(sequences, dimension=10000):\n",
        "  results = np.zeros((len(sequences), dimension))\n",
        "  for i, sequence in enumerate(sequences):\n",
        "    for j in sequence:\n",
        "      results[i, j] = 1.\n",
        "  return results\n",
        "x_train = vectorize_sequences(train_data)\n",
        "x_test = vectorize_sequences(test_data)"
      ],
      "metadata": {
        "id": "VFgYRwunXrzF"
      },
      "execution_count": 11,
      "outputs": []
    },
    {
      "cell_type": "code",
      "source": [
        "x_train[10]"
      ],
      "metadata": {
        "colab": {
          "base_uri": "https://localhost:8080/"
        },
        "id": "q9DXvGAKXWLi",
        "outputId": "e3a8c867-2b5d-4919-cae3-65ef02aca5ab"
      },
      "execution_count": 12,
      "outputs": [
        {
          "output_type": "execute_result",
          "data": {
            "text/plain": [
              "array([0., 1., 0., ..., 0., 0., 0.])"
            ]
          },
          "metadata": {},
          "execution_count": 12
        }
      ]
    },
    {
      "cell_type": "code",
      "source": [
        "def to_one_hot(labels, dimension=46):\n",
        "  results = np.zeros((len(labels), dimension))\n",
        "  for i, label in enumerate(labels):\n",
        "    results[i, label] = 1.\n",
        "  return results\n",
        "y_train = to_one_hot(train_labels)\n",
        "y_test = to_one_hot(test_labels)"
      ],
      "metadata": {
        "id": "FVhzKTJVYWYX"
      },
      "execution_count": 13,
      "outputs": []
    },
    {
      "cell_type": "code",
      "source": [
        "y_train[10]"
      ],
      "metadata": {
        "colab": {
          "base_uri": "https://localhost:8080/"
        },
        "id": "w1CPT0RUY9qZ",
        "outputId": "dd479d13-9362-4584-f177-4bb231e14b4c"
      },
      "execution_count": 15,
      "outputs": [
        {
          "output_type": "execute_result",
          "data": {
            "text/plain": [
              "array([0., 0., 0., 1., 0., 0., 0., 0., 0., 0., 0., 0., 0., 0., 0., 0., 0.,\n",
              "       0., 0., 0., 0., 0., 0., 0., 0., 0., 0., 0., 0., 0., 0., 0., 0., 0.,\n",
              "       0., 0., 0., 0., 0., 0., 0., 0., 0., 0., 0., 0.])"
            ]
          },
          "metadata": {},
          "execution_count": 15
        }
      ]
    },
    {
      "cell_type": "code",
      "source": [
        "from tensorflow.keras.utils import to_categorical\n",
        "\n",
        "y_train = to_categorical(train_labels)\n",
        "y_test = to_categorical(test_labels)"
      ],
      "metadata": {
        "id": "fyrQhcTPZDu5"
      },
      "execution_count": 18,
      "outputs": []
    },
    {
      "cell_type": "code",
      "source": [
        "y_train[10]"
      ],
      "metadata": {
        "colab": {
          "base_uri": "https://localhost:8080/"
        },
        "id": "k7jBOy75ZZ8W",
        "outputId": "d657de1a-447f-4cc7-e662-04599716e5ab"
      },
      "execution_count": 19,
      "outputs": [
        {
          "output_type": "execute_result",
          "data": {
            "text/plain": [
              "array([0., 0., 0., 1., 0., 0., 0., 0., 0., 0., 0., 0., 0., 0., 0., 0., 0.,\n",
              "       0., 0., 0., 0., 0., 0., 0., 0., 0., 0., 0., 0., 0., 0., 0., 0., 0.,\n",
              "       0., 0., 0., 0., 0., 0., 0., 0., 0., 0., 0., 0.], dtype=float32)"
            ]
          },
          "metadata": {},
          "execution_count": 19
        }
      ]
    },
    {
      "cell_type": "code",
      "source": [
        "from tensorflow import keras\n",
        "from tensorflow.keras import layers\n",
        "model = keras.Sequential([\n",
        "  layers.Dense(64, activation=\"relu\"),\n",
        "  layers.Dense(64, activation=\"relu\"),\n",
        "  layers.Dense(46, activation=\"softmax\")\n",
        "  ])"
      ],
      "metadata": {
        "id": "Zw92umI1Zh4E"
      },
      "execution_count": 21,
      "outputs": []
    },
    {
      "cell_type": "code",
      "source": [
        "model.compile(optimizer=\"rmsprop\",\n",
        "  loss=\"categorical_crossentropy\",\n",
        "  metrics=[\"accuracy\"])"
      ],
      "metadata": {
        "id": "D2tieev6avM6"
      },
      "execution_count": 22,
      "outputs": []
    },
    {
      "cell_type": "code",
      "source": [
        "x_val = x_train[:1000]\n",
        "partial_x_train = x_train[1000:]\n",
        "y_val = y_train[:1000]\n",
        "partial_y_train = y_train[1000:]"
      ],
      "metadata": {
        "id": "SbkYZu_da8ML"
      },
      "execution_count": 23,
      "outputs": []
    },
    {
      "cell_type": "code",
      "source": [
        "history = model.fit(partial_x_train,\n",
        "  partial_y_train,\n",
        "  epochs=20,\n",
        "  batch_size=512,\n",
        "  validation_data=(x_val, y_val))"
      ],
      "metadata": {
        "colab": {
          "base_uri": "https://localhost:8080/"
        },
        "id": "PYCHWs8ZbJd1",
        "outputId": "b21c7990-3878-47e2-a960-82be360c800e"
      },
      "execution_count": 24,
      "outputs": [
        {
          "output_type": "stream",
          "name": "stdout",
          "text": [
            "Epoch 1/20\n",
            "16/16 [==============================] - 2s 92ms/step - loss: 2.7231 - accuracy: 0.4717 - val_loss: 1.8659 - val_accuracy: 0.6030\n",
            "Epoch 2/20\n",
            "16/16 [==============================] - 1s 69ms/step - loss: 1.5506 - accuracy: 0.6681 - val_loss: 1.3871 - val_accuracy: 0.7000\n",
            "Epoch 3/20\n",
            "16/16 [==============================] - 1s 58ms/step - loss: 1.1779 - accuracy: 0.7453 - val_loss: 1.1829 - val_accuracy: 0.7470\n",
            "Epoch 4/20\n",
            "16/16 [==============================] - 1s 69ms/step - loss: 0.9619 - accuracy: 0.7915 - val_loss: 1.0662 - val_accuracy: 0.7670\n",
            "Epoch 5/20\n",
            "16/16 [==============================] - 1s 66ms/step - loss: 0.8001 - accuracy: 0.8225 - val_loss: 1.0081 - val_accuracy: 0.7740\n",
            "Epoch 6/20\n",
            "16/16 [==============================] - 2s 100ms/step - loss: 0.6717 - accuracy: 0.8542 - val_loss: 0.9673 - val_accuracy: 0.7810\n",
            "Epoch 7/20\n",
            "16/16 [==============================] - 2s 105ms/step - loss: 0.5702 - accuracy: 0.8777 - val_loss: 0.9253 - val_accuracy: 0.7950\n",
            "Epoch 8/20\n",
            "16/16 [==============================] - 1s 69ms/step - loss: 0.4786 - accuracy: 0.9022 - val_loss: 0.9049 - val_accuracy: 0.8000\n",
            "Epoch 9/20\n",
            "16/16 [==============================] - 1s 66ms/step - loss: 0.4104 - accuracy: 0.9122 - val_loss: 0.8770 - val_accuracy: 0.8060\n",
            "Epoch 10/20\n",
            "16/16 [==============================] - 1s 69ms/step - loss: 0.3493 - accuracy: 0.9263 - val_loss: 0.8604 - val_accuracy: 0.8150\n",
            "Epoch 11/20\n",
            "16/16 [==============================] - 1s 66ms/step - loss: 0.3076 - accuracy: 0.9359 - val_loss: 0.8573 - val_accuracy: 0.8200\n",
            "Epoch 12/20\n",
            "16/16 [==============================] - 1s 66ms/step - loss: 0.2691 - accuracy: 0.9394 - val_loss: 0.8602 - val_accuracy: 0.8170\n",
            "Epoch 13/20\n",
            "16/16 [==============================] - 1s 65ms/step - loss: 0.2372 - accuracy: 0.9451 - val_loss: 0.8911 - val_accuracy: 0.8120\n",
            "Epoch 14/20\n",
            "16/16 [==============================] - 1s 65ms/step - loss: 0.2125 - accuracy: 0.9493 - val_loss: 0.9315 - val_accuracy: 0.8100\n",
            "Epoch 15/20\n",
            "16/16 [==============================] - 1s 53ms/step - loss: 0.1971 - accuracy: 0.9510 - val_loss: 0.8895 - val_accuracy: 0.8140\n",
            "Epoch 16/20\n",
            "16/16 [==============================] - 1s 53ms/step - loss: 0.1793 - accuracy: 0.9524 - val_loss: 0.9068 - val_accuracy: 0.8190\n",
            "Epoch 17/20\n",
            "16/16 [==============================] - 1s 53ms/step - loss: 0.1640 - accuracy: 0.9553 - val_loss: 0.9446 - val_accuracy: 0.8070\n",
            "Epoch 18/20\n",
            "16/16 [==============================] - 1s 80ms/step - loss: 0.1544 - accuracy: 0.9539 - val_loss: 0.9200 - val_accuracy: 0.8200\n",
            "Epoch 19/20\n",
            "16/16 [==============================] - 2s 104ms/step - loss: 0.1447 - accuracy: 0.9584 - val_loss: 0.9251 - val_accuracy: 0.8150\n",
            "Epoch 20/20\n",
            "16/16 [==============================] - 1s 77ms/step - loss: 0.1374 - accuracy: 0.9567 - val_loss: 0.9509 - val_accuracy: 0.8180\n"
          ]
        }
      ]
    },
    {
      "cell_type": "code",
      "source": [
        "import pandas as pd\n",
        "from matplotlib import pyplot as plt\n",
        "pd.DataFrame(history.history).plot(figsize=(8,5))\n",
        "\n",
        "plt.show()"
      ],
      "metadata": {
        "colab": {
          "base_uri": "https://localhost:8080/",
          "height": 445
        },
        "id": "krxktRyCbbhS",
        "outputId": "b67ed17f-fae6-4b36-fb53-b523b7efcc16"
      },
      "execution_count": 26,
      "outputs": [
        {
          "output_type": "display_data",
          "data": {
            "text/plain": [
              "<Figure size 800x500 with 1 Axes>"
            ],
            "image/png": "[encoded data removed]"
          },
          "metadata": {}
        }
      ]
    },
    {
      "cell_type": "code",
      "source": [
        "results = model.evaluate(x_test, y_test)"
      ],
      "metadata": {
        "colab": {
          "base_uri": "https://localhost:8080/"
        },
        "id": "IcXbh4g9dOTM",
        "outputId": "c9c37647-f4ad-4442-9455-fc691b58b4cc"
      },
      "execution_count": 27,
      "outputs": [
        {
          "output_type": "stream",
          "name": "stdout",
          "text": [
            "71/71 [==============================] - 0s 5ms/step - loss: 1.0242 - accuracy: 0.7965\n"
          ]
        }
      ]
    },
    {
      "cell_type": "code",
      "source": [
        "results"
      ],
      "metadata": {
        "colab": {
          "base_uri": "https://localhost:8080/"
        },
        "id": "icAG5IUEdPTp",
        "outputId": "db05feb2-ea44-484e-dd7e-07ff66c61d3c"
      },
      "execution_count": 28,
      "outputs": [
        {
          "output_type": "execute_result",
          "data": {
            "text/plain": [
              "[1.024170160293579, 0.7965271472930908]"
            ]
          },
          "metadata": {},
          "execution_count": 28
        }
      ]
    },
    {
      "cell_type": "code",
      "source": [
        "predictions = model.predict(x_test)"
      ],
      "metadata": {
        "colab": {
          "base_uri": "https://localhost:8080/"
        },
        "id": "Qr-hOfrndYBH",
        "outputId": "0f0e9949-b1f9-4e44-a0a2-f8d79f381fa1"
      },
      "execution_count": 29,
      "outputs": [
        {
          "output_type": "stream",
          "name": "stdout",
          "text": [
            "71/71 [==============================] - 0s 4ms/step\n"
          ]
        }
      ]
    },
    {
      "cell_type": "code",
      "source": [
        "predictions[10]"
      ],
      "metadata": {
        "colab": {
          "base_uri": "https://localhost:8080/"
        },
        "id": "Wya-Lmv9eUbX",
        "outputId": "22566a18-5a74-4b4a-8dbf-be0e0e14f1bd"
      },
      "execution_count": 30,
      "outputs": [
        {
          "output_type": "execute_result",
          "data": {
            "text/plain": [
              "array([6.93701790e-04, 8.67278278e-01, 4.67701349e-03, 3.77401477e-03,\n",
              "       1.42288557e-03, 8.61476362e-02, 5.04322998e-05, 1.86356774e-05,\n",
              "       4.15571776e-05, 8.43742455e-05, 1.53359435e-02, 3.06406473e-05,\n",
              "       8.67804047e-04, 2.46211683e-04, 1.43659278e-03, 2.12569931e-03,\n",
              "       1.08128870e-05, 1.44085658e-04, 2.35470561e-05, 7.97950706e-05,\n",
              "       4.06574458e-04, 6.01367128e-06, 2.10676086e-03, 1.24591729e-03,\n",
              "       4.54851612e-03, 2.17864523e-03, 5.50711957e-06, 1.63255399e-03,\n",
              "       5.69683965e-04, 1.00270307e-04, 7.01112585e-05, 1.18602584e-04,\n",
              "       6.34442607e-04, 4.45728656e-05, 3.36327575e-05, 2.04215848e-05,\n",
              "       7.11824177e-05, 1.24296217e-04, 4.54138586e-04, 1.14620882e-04,\n",
              "       9.65190848e-05, 1.65764959e-05, 5.80414082e-04, 7.01873148e-07,\n",
              "       1.19793091e-04, 2.09817183e-04], dtype=float32)"
            ]
          },
          "metadata": {},
          "execution_count": 30
        }
      ]
    },
    {
      "cell_type": "code",
      "source": [
        "np.sum(predictions[10])"
      ],
      "metadata": {
        "colab": {
          "base_uri": "https://localhost:8080/"
        },
        "id": "ATy9LsxCecTc",
        "outputId": "8a0b80d2-67cd-485a-bc49-8dbbc294dd2e"
      },
      "execution_count": 31,
      "outputs": [
        {
          "output_type": "execute_result",
          "data": {
            "text/plain": [
              "1.0"
            ]
          },
          "metadata": {},
          "execution_count": 31
        }
      ]
    },
    {
      "cell_type": "code",
      "source": [
        "np.argmax(predictions[10])"
      ],
      "metadata": {
        "colab": {
          "base_uri": "https://localhost:8080/"
        },
        "id": "cADiDJW6exL3",
        "outputId": "18d47a16-1e03-4614-ce3c-d6e082408126"
      },
      "execution_count": 32,
      "outputs": [
        {
          "output_type": "execute_result",
          "data": {
            "text/plain": [
              "1"
            ]
          },
          "metadata": {},
          "execution_count": 32
        }
      ]
    },
    {
      "cell_type": "code",
      "source": [
        "y_test[10]"
      ],
      "metadata": {
        "colab": {
          "base_uri": "https://localhost:8080/"
        },
        "id": "Og9h4TRZe0Et",
        "outputId": "b09faa72-6fe2-4329-cd28-a0ff138beeb9"
      },
      "execution_count": 33,
      "outputs": [
        {
          "output_type": "execute_result",
          "data": {
            "text/plain": [
              "array([0., 0., 0., 0., 0., 1., 0., 0., 0., 0., 0., 0., 0., 0., 0., 0., 0.,\n",
              "       0., 0., 0., 0., 0., 0., 0., 0., 0., 0., 0., 0., 0., 0., 0., 0., 0.,\n",
              "       0., 0., 0., 0., 0., 0., 0., 0., 0., 0., 0., 0.], dtype=float32)"
            ]
          },
          "metadata": {},
          "execution_count": 33
        }
      ]
    },
    {
      "cell_type": "code",
      "source": [
        "test_labels[10]"
      ],
      "metadata": {
        "colab": {
          "base_uri": "https://localhost:8080/"
        },
        "id": "jTnF-RSyfgOf",
        "outputId": "eac2ca2a-5da8-4f5b-cda3-7fc08ac9c8fe"
      },
      "execution_count": 34,
      "outputs": [
        {
          "output_type": "execute_result",
          "data": {
            "text/plain": [
              "5"
            ]
          },
          "metadata": {},
          "execution_count": 34
        }
      ]
    },
    {
      "cell_type": "code",
      "source": [
        "model2 = keras.Sequential([\n",
        "  layers.Dense(64, activation=\"relu\"),\n",
        "  layers.Dense(32, activation=\"relu\"),\n",
        "\n",
        "  layers.Dense(46, activation=\"softmax\")\n",
        "  ])\n",
        "model2.compile(optimizer=\"rmsprop\",\n",
        "  loss=\"categorical_crossentropy\",\n",
        "  metrics=[\"accuracy\"])\n",
        "history2 = model.fit(partial_x_train,\n",
        "  partial_y_train,\n",
        "  epochs=20,\n",
        "  batch_size=512,\n",
        "  validation_data=(x_val, y_val))\n"
      ],
      "metadata": {
        "colab": {
          "base_uri": "https://localhost:8080/"
        },
        "id": "IKwEYnmZfyZt",
        "outputId": "930670a4-cb77-4632-a3db-4003626f588c"
      },
      "execution_count": 40,
      "outputs": [
        {
          "output_type": "stream",
          "name": "stdout",
          "text": [
            "Epoch 1/20\n",
            "16/16 [==============================] - 2s 123ms/step - loss: 0.0899 - accuracy: 0.9605 - val_loss: 1.2095 - val_accuracy: 0.7990\n",
            "Epoch 2/20\n",
            "16/16 [==============================] - 1s 68ms/step - loss: 0.0890 - accuracy: 0.9588 - val_loss: 1.0995 - val_accuracy: 0.8160\n",
            "Epoch 3/20\n",
            "16/16 [==============================] - 1s 72ms/step - loss: 0.0889 - accuracy: 0.9610 - val_loss: 1.1024 - val_accuracy: 0.8060\n",
            "Epoch 4/20\n",
            "16/16 [==============================] - 1s 70ms/step - loss: 0.0909 - accuracy: 0.9568 - val_loss: 1.1399 - val_accuracy: 0.8020\n",
            "Epoch 5/20\n",
            "16/16 [==============================] - 1s 71ms/step - loss: 0.0913 - accuracy: 0.9589 - val_loss: 1.1431 - val_accuracy: 0.7930\n",
            "Epoch 6/20\n",
            "16/16 [==============================] - 1s 71ms/step - loss: 0.0895 - accuracy: 0.9597 - val_loss: 1.1076 - val_accuracy: 0.8040\n",
            "Epoch 7/20\n",
            "16/16 [==============================] - 1s 75ms/step - loss: 0.0900 - accuracy: 0.9593 - val_loss: 1.1191 - val_accuracy: 0.8040\n",
            "Epoch 8/20\n",
            "16/16 [==============================] - 1s 69ms/step - loss: 0.0852 - accuracy: 0.9577 - val_loss: 1.1161 - val_accuracy: 0.8030\n",
            "Epoch 9/20\n",
            "16/16 [==============================] - 1s 64ms/step - loss: 0.0899 - accuracy: 0.9595 - val_loss: 1.1460 - val_accuracy: 0.7920\n",
            "Epoch 10/20\n",
            "16/16 [==============================] - 1s 61ms/step - loss: 0.0886 - accuracy: 0.9599 - val_loss: 1.0725 - val_accuracy: 0.8110\n",
            "Epoch 11/20\n",
            "16/16 [==============================] - 1s 71ms/step - loss: 0.0848 - accuracy: 0.9594 - val_loss: 1.1238 - val_accuracy: 0.7980\n",
            "Epoch 12/20\n",
            "16/16 [==============================] - 2s 104ms/step - loss: 0.0881 - accuracy: 0.9603 - val_loss: 1.1434 - val_accuracy: 0.8020\n",
            "Epoch 13/20\n",
            "16/16 [==============================] - 1s 91ms/step - loss: 0.0913 - accuracy: 0.9580 - val_loss: 1.1135 - val_accuracy: 0.8040\n",
            "Epoch 14/20\n",
            "16/16 [==============================] - 1s 66ms/step - loss: 0.0860 - accuracy: 0.9593 - val_loss: 1.1108 - val_accuracy: 0.8020\n",
            "Epoch 15/20\n",
            "16/16 [==============================] - 1s 61ms/step - loss: 0.0850 - accuracy: 0.9598 - val_loss: 1.1408 - val_accuracy: 0.8060\n",
            "Epoch 16/20\n",
            "16/16 [==============================] - 1s 56ms/step - loss: 0.0869 - accuracy: 0.9590 - val_loss: 1.1285 - val_accuracy: 0.8030\n",
            "Epoch 17/20\n",
            "16/16 [==============================] - 1s 62ms/step - loss: 0.0861 - accuracy: 0.9605 - val_loss: 1.1559 - val_accuracy: 0.8030\n",
            "Epoch 18/20\n",
            "16/16 [==============================] - 1s 52ms/step - loss: 0.0844 - accuracy: 0.9592 - val_loss: 1.1654 - val_accuracy: 0.7990\n",
            "Epoch 19/20\n",
            "16/16 [==============================] - 1s 66ms/step - loss: 0.0884 - accuracy: 0.9595 - val_loss: 1.0864 - val_accuracy: 0.8130\n",
            "Epoch 20/20\n",
            "16/16 [==============================] - 1s 51ms/step - loss: 0.0815 - accuracy: 0.9579 - val_loss: 1.1860 - val_accuracy: 0.7940\n"
          ]
        }
      ]
    },
    {
      "cell_type": "code",
      "source": [
        "pd.DataFrame(history2.history).plot(figsize=(8,5))\n",
        "\n",
        "plt.show()"
      ],
      "metadata": {
        "colab": {
          "base_uri": "https://localhost:8080/",
          "height": 445
        },
        "id": "xweGQarehkUN",
        "outputId": "42f72fdc-8ce0-40c3-813d-7d3705cfa45c"
      },
      "execution_count": 41,
      "outputs": [
        {
          "output_type": "display_data",
          "data": {
            "text/plain": [
              "<Figure size 800x500 with 1 Axes>"
            ],
            "image/png": "[encoded data removed]"
          },
          "metadata": {}
        }
      ]
    },
    {
      "cell_type": "code",
      "source": [],
      "metadata": {
        "id": "PzK_JAblh542"
      },
      "execution_count": null,
      "outputs": []
    }
  ]
}