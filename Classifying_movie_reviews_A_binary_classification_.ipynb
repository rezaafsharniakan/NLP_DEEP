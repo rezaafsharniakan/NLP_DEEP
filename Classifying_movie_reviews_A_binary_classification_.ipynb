{
  "cells": [
    {
      "cell_type": "code",
      "execution_count": 1,
      "metadata": {
        "id": "ZeEHAgbELiqK"
      },
      "outputs": [],
      "source": [
        "from tensorflow.keras.datasets import imdb"
      ]
    },
    {
      "cell_type": "code",
      "execution_count": 2,
      "metadata": {
        "id": "nuyngsX6McF6",
        "colab": {
          "base_uri": "https://localhost:8080/"
        },
        "outputId": "0bd995d3-85b1-48d6-a374-393e71c58da7"
      },
      "outputs": [
        {
          "output_type": "stream",
          "name": "stdout",
          "text": [
            "Downloading data from https://storage.googleapis.com/tensorflow/tf-keras-datasets/imdb.npz\n",
            "17464789/17464789 [==============================] - 0s 0us/step\n"
          ]
        }
      ],
      "source": [
        "(train_data,train_labels),(test_data,test_labels)=imdb.load_data(num_words=10000)"
      ]
    },
    {
      "cell_type": "code",
      "source": [
        "train_data[0]"
      ],
      "metadata": {
        "colab": {
          "base_uri": "https://localhost:8080/"
        },
        "id": "jGKAg14aCgy7",
        "outputId": "a0a11367-fdca-4552-fcc7-77e42efd88a9"
      },
      "execution_count": 10,
      "outputs": [
        {
          "output_type": "execute_result",
          "data": {
            "text/plain": [
              "[1,\n",
              " 14,\n",
              " 22,\n",
              " 16,\n",
              " 43,\n",
              " 530,\n",
              " 973,\n",
              " 1622,\n",
              " 1385,\n",
              " 65,\n",
              " 458,\n",
              " 4468,\n",
              " 66,\n",
              " 3941,\n",
              " 4,\n",
              " 173,\n",
              " 36,\n",
              " 256,\n",
              " 5,\n",
              " 25,\n",
              " 100,\n",
              " 43,\n",
              " 838,\n",
              " 112,\n",
              " 50,\n",
              " 670,\n",
              " 2,\n",
              " 9,\n",
              " 35,\n",
              " 480,\n",
              " 284,\n",
              " 5,\n",
              " 150,\n",
              " 4,\n",
              " 172,\n",
              " 112,\n",
              " 167,\n",
              " 2,\n",
              " 336,\n",
              " 385,\n",
              " 39,\n",
              " 4,\n",
              " 172,\n",
              " 4536,\n",
              " 1111,\n",
              " 17,\n",
              " 546,\n",
              " 38,\n",
              " 13,\n",
              " 447,\n",
              " 4,\n",
              " 192,\n",
              " 50,\n",
              " 16,\n",
              " 6,\n",
              " 147,\n",
              " 2025,\n",
              " 19,\n",
              " 14,\n",
              " 22,\n",
              " 4,\n",
              " 1920,\n",
              " 4613,\n",
              " 469,\n",
              " 4,\n",
              " 22,\n",
              " 71,\n",
              " 87,\n",
              " 12,\n",
              " 16,\n",
              " 43,\n",
              " 530,\n",
              " 38,\n",
              " 76,\n",
              " 15,\n",
              " 13,\n",
              " 1247,\n",
              " 4,\n",
              " 22,\n",
              " 17,\n",
              " 515,\n",
              " 17,\n",
              " 12,\n",
              " 16,\n",
              " 626,\n",
              " 18,\n",
              " 2,\n",
              " 5,\n",
              " 62,\n",
              " 386,\n",
              " 12,\n",
              " 8,\n",
              " 316,\n",
              " 8,\n",
              " 106,\n",
              " 5,\n",
              " 4,\n",
              " 2223,\n",
              " 5244,\n",
              " 16,\n",
              " 480,\n",
              " 66,\n",
              " 3785,\n",
              " 33,\n",
              " 4,\n",
              " 130,\n",
              " 12,\n",
              " 16,\n",
              " 38,\n",
              " 619,\n",
              " 5,\n",
              " 25,\n",
              " 124,\n",
              " 51,\n",
              " 36,\n",
              " 135,\n",
              " 48,\n",
              " 25,\n",
              " 1415,\n",
              " 33,\n",
              " 6,\n",
              " 22,\n",
              " 12,\n",
              " 215,\n",
              " 28,\n",
              " 77,\n",
              " 52,\n",
              " 5,\n",
              " 14,\n",
              " 407,\n",
              " 16,\n",
              " 82,\n",
              " 2,\n",
              " 8,\n",
              " 4,\n",
              " 107,\n",
              " 117,\n",
              " 5952,\n",
              " 15,\n",
              " 256,\n",
              " 4,\n",
              " 2,\n",
              " 7,\n",
              " 3766,\n",
              " 5,\n",
              " 723,\n",
              " 36,\n",
              " 71,\n",
              " 43,\n",
              " 530,\n",
              " 476,\n",
              " 26,\n",
              " 400,\n",
              " 317,\n",
              " 46,\n",
              " 7,\n",
              " 4,\n",
              " 2,\n",
              " 1029,\n",
              " 13,\n",
              " 104,\n",
              " 88,\n",
              " 4,\n",
              " 381,\n",
              " 15,\n",
              " 297,\n",
              " 98,\n",
              " 32,\n",
              " 2071,\n",
              " 56,\n",
              " 26,\n",
              " 141,\n",
              " 6,\n",
              " 194,\n",
              " 7486,\n",
              " 18,\n",
              " 4,\n",
              " 226,\n",
              " 22,\n",
              " 21,\n",
              " 134,\n",
              " 476,\n",
              " 26,\n",
              " 480,\n",
              " 5,\n",
              " 144,\n",
              " 30,\n",
              " 5535,\n",
              " 18,\n",
              " 51,\n",
              " 36,\n",
              " 28,\n",
              " 224,\n",
              " 92,\n",
              " 25,\n",
              " 104,\n",
              " 4,\n",
              " 226,\n",
              " 65,\n",
              " 16,\n",
              " 38,\n",
              " 1334,\n",
              " 88,\n",
              " 12,\n",
              " 16,\n",
              " 283,\n",
              " 5,\n",
              " 16,\n",
              " 4472,\n",
              " 113,\n",
              " 103,\n",
              " 32,\n",
              " 15,\n",
              " 16,\n",
              " 5345,\n",
              " 19,\n",
              " 178,\n",
              " 32]"
            ]
          },
          "metadata": {},
          "execution_count": 10
        }
      ]
    },
    {
      "cell_type": "code",
      "source": [
        "train_labels[0]"
      ],
      "metadata": {
        "colab": {
          "base_uri": "https://localhost:8080/"
        },
        "id": "PnoKR45jCmCQ",
        "outputId": "00dfc75e-65f1-402d-a79a-b2c0b4b2f2ce"
      },
      "execution_count": 4,
      "outputs": [
        {
          "output_type": "execute_result",
          "data": {
            "text/plain": [
              "1"
            ]
          },
          "metadata": {},
          "execution_count": 4
        }
      ]
    },
    {
      "cell_type": "code",
      "source": [
        "max([max(sequence) for sequence in train_data])"
      ],
      "metadata": {
        "colab": {
          "base_uri": "https://localhost:8080/"
        },
        "id": "9xIUYFqTCpT4",
        "outputId": "b4cb13ce-3acf-4eae-f016-4a70cdf7791c"
      },
      "execution_count": 5,
      "outputs": [
        {
          "output_type": "execute_result",
          "data": {
            "text/plain": [
              "9999"
            ]
          },
          "metadata": {},
          "execution_count": 5
        }
      ]
    },
    {
      "cell_type": "code",
      "source": [
        "word_index = imdb.get_word_index()\n",
        "reverse_word_index = dict(\n",
        "  [(value, key) for (key, value) in word_index.items()])\n",
        "decoded_review = \" \".join(\n",
        "  [reverse_word_index.get(i - 3, \"?\") for i in train_data[0]])"
      ],
      "metadata": {
        "colab": {
          "base_uri": "https://localhost:8080/"
        },
        "id": "yAvXcDZbCvB-",
        "outputId": "f83bbc60-bb72-4103-9221-292620bf4282"
      },
      "execution_count": 6,
      "outputs": [
        {
          "output_type": "stream",
          "name": "stdout",
          "text": [
            "Downloading data from https://storage.googleapis.com/tensorflow/tf-keras-datasets/imdb_word_index.json\n",
            "1641221/1641221 [==============================] - 0s 0us/step\n"
          ]
        }
      ]
    },
    {
      "cell_type": "code",
      "source": [
        "decoded_review"
      ],
      "metadata": {
        "colab": {
          "base_uri": "https://localhost:8080/",
          "height": 140
        },
        "id": "8-PvoDaCC3Jo",
        "outputId": "d1e265a3-ba77-4183-d6cf-b6c6a814b480"
      },
      "execution_count": 7,
      "outputs": [
        {
          "output_type": "execute_result",
          "data": {
            "text/plain": [
              "\"? this film was just brilliant casting location scenery story direction everyone's really suited the part they played and you could just imagine being there robert ? is an amazing actor and now the same being director ? father came from the same scottish island as myself so i loved the fact there was a real connection with this film the witty remarks throughout the film were great it was just brilliant so much that i bought the film as soon as it was released for ? and would recommend it to everyone to watch and the fly fishing was amazing really cried at the end it was so sad and you know what they say if you cry at a film it must have been good and this definitely was also ? to the two little boy's that played the ? of norman and paul they were just brilliant children are often left out of the ? list i think because the stars that play them all grown up are such a big profile for the whole film but these children are amazing and should be praised for what they have done don't you think the whole story was so lovely because it was true and was someone's life after all that was shared with us all\""
            ],
            "application/vnd.google.colaboratory.intrinsic+json": {
              "type": "string"
            }
          },
          "metadata": {},
          "execution_count": 7
        }
      ]
    },
    {
      "cell_type": "code",
      "source": [
        "import numpy as np\n",
        "def vectorize_sequences(sequences, dimension=10000):\n",
        "  results = np.zeros((len(sequences), dimension))\n",
        "  for i, sequence in enumerate(sequences):\n",
        "    for j in sequence:\n",
        "      results[i, j] = 1.\n",
        "  return results\n",
        "x_train = vectorize_sequences(train_data)\n",
        "x_test = vectorize_sequences(test_data)"
      ],
      "metadata": {
        "id": "reYkWP_CDJh8"
      },
      "execution_count": 8,
      "outputs": []
    },
    {
      "cell_type": "code",
      "source": [
        "x_train[0]"
      ],
      "metadata": {
        "colab": {
          "base_uri": "https://localhost:8080/"
        },
        "id": "cHeOLdfsGYvc",
        "outputId": "209ca4d2-bb53-4f61-8186-f142489481ed"
      },
      "execution_count": 9,
      "outputs": [
        {
          "output_type": "execute_result",
          "data": {
            "text/plain": [
              "array([0., 1., 1., ..., 0., 0., 0.])"
            ]
          },
          "metadata": {},
          "execution_count": 9
        }
      ]
    },
    {
      "cell_type": "code",
      "source": [
        "y_train = np.asarray(train_labels).astype(\"float32\")\n",
        "y_test = np.asarray(test_labels).astype(\"float32\")"
      ],
      "metadata": {
        "id": "g7L6jedpGek_"
      },
      "execution_count": 11,
      "outputs": []
    },
    {
      "cell_type": "code",
      "source": [
        "y_train[0]"
      ],
      "metadata": {
        "colab": {
          "base_uri": "https://localhost:8080/"
        },
        "id": "DBoafBC0HJLK",
        "outputId": "ccc81b3b-1200-41e5-d302-a14e740533e3"
      },
      "execution_count": 12,
      "outputs": [
        {
          "output_type": "execute_result",
          "data": {
            "text/plain": [
              "1.0"
            ]
          },
          "metadata": {},
          "execution_count": 12
        }
      ]
    },
    {
      "cell_type": "code",
      "source": [
        "from tensorflow import keras\n",
        "from tensorflow.keras import layers"
      ],
      "metadata": {
        "id": "kPmnrhJZIiJE"
      },
      "execution_count": 13,
      "outputs": []
    },
    {
      "cell_type": "code",
      "source": [
        "from keras.api._v2.keras import activations\n",
        "model=keras.Sequential([\n",
        "    layers.Dense(16,activation='relu'),\n",
        "    layers.Dense(16,activation='relu'),\n",
        "    layers.Dense(1,activation='sigmoid')\n",
        "\n",
        "])"
      ],
      "metadata": {
        "id": "vlH9P3BwIxiF"
      },
      "execution_count": 15,
      "outputs": []
    },
    {
      "cell_type": "code",
      "source": [
        "\n",
        "model.compile(optimizer='rmsprop',\n",
        "              loss='binary_crossentropy',\n",
        "              metrics=['accuracy'])"
      ],
      "metadata": {
        "id": "FweCJ2P3JWpI"
      },
      "execution_count": 16,
      "outputs": []
    },
    {
      "cell_type": "code",
      "source": [
        "x_val = x_train[:10000]\n",
        "partial_x_train = x_train[10000:]\n",
        "y_val = y_train[:10000]\n",
        "partial_y_train = y_train[10000:]"
      ],
      "metadata": {
        "id": "t9eYse2qLzFM"
      },
      "execution_count": 17,
      "outputs": []
    },
    {
      "cell_type": "code",
      "source": [
        "history = model.fit(partial_x_train,\n",
        "  partial_y_train,\n",
        "  epochs=20,\n",
        "  batch_size=512,\n",
        "  validation_data=(x_val, y_val))"
      ],
      "metadata": {
        "colab": {
          "base_uri": "https://localhost:8080/"
        },
        "id": "bHYot3CoO9gO",
        "outputId": "536dcf02-832f-4931-920d-df0bb79a85ab"
      },
      "execution_count": 18,
      "outputs": [
        {
          "output_type": "stream",
          "name": "stdout",
          "text": [
            "Epoch 1/20\n",
            "30/30 [==============================] - 7s 54ms/step - loss: 0.5329 - accuracy: 0.7803 - val_loss: 0.4127 - val_accuracy: 0.8495\n",
            "Epoch 2/20\n",
            "30/30 [==============================] - 1s 22ms/step - loss: 0.3264 - accuracy: 0.8949 - val_loss: 0.3277 - val_accuracy: 0.8684\n",
            "Epoch 3/20\n",
            "30/30 [==============================] - 1s 23ms/step - loss: 0.2459 - accuracy: 0.9169 - val_loss: 0.2887 - val_accuracy: 0.8868\n",
            "Epoch 4/20\n",
            "30/30 [==============================] - 1s 22ms/step - loss: 0.1967 - accuracy: 0.9335 - val_loss: 0.3264 - val_accuracy: 0.8664\n",
            "Epoch 5/20\n",
            "30/30 [==============================] - 1s 25ms/step - loss: 0.1652 - accuracy: 0.9443 - val_loss: 0.2771 - val_accuracy: 0.8898\n",
            "Epoch 6/20\n",
            "30/30 [==============================] - 1s 22ms/step - loss: 0.1394 - accuracy: 0.9551 - val_loss: 0.2836 - val_accuracy: 0.8878\n",
            "Epoch 7/20\n",
            "30/30 [==============================] - 1s 22ms/step - loss: 0.1228 - accuracy: 0.9595 - val_loss: 0.2958 - val_accuracy: 0.8868\n",
            "Epoch 8/20\n",
            "30/30 [==============================] - 1s 23ms/step - loss: 0.1033 - accuracy: 0.9684 - val_loss: 0.3682 - val_accuracy: 0.8646\n",
            "Epoch 9/20\n",
            "30/30 [==============================] - 1s 24ms/step - loss: 0.0891 - accuracy: 0.9746 - val_loss: 0.3252 - val_accuracy: 0.8811\n",
            "Epoch 10/20\n",
            "30/30 [==============================] - 1s 24ms/step - loss: 0.0777 - accuracy: 0.9769 - val_loss: 0.3537 - val_accuracy: 0.8801\n",
            "Epoch 11/20\n",
            "30/30 [==============================] - 1s 42ms/step - loss: 0.0662 - accuracy: 0.9824 - val_loss: 0.3632 - val_accuracy: 0.8774\n",
            "Epoch 12/20\n",
            "30/30 [==============================] - 1s 31ms/step - loss: 0.0557 - accuracy: 0.9867 - val_loss: 0.4171 - val_accuracy: 0.8722\n",
            "Epoch 13/20\n",
            "30/30 [==============================] - 1s 22ms/step - loss: 0.0516 - accuracy: 0.9873 - val_loss: 0.4212 - val_accuracy: 0.8667\n",
            "Epoch 14/20\n",
            "30/30 [==============================] - 1s 22ms/step - loss: 0.0423 - accuracy: 0.9910 - val_loss: 0.4237 - val_accuracy: 0.8773\n",
            "Epoch 15/20\n",
            "30/30 [==============================] - 1s 22ms/step - loss: 0.0362 - accuracy: 0.9922 - val_loss: 0.4480 - val_accuracy: 0.8764\n",
            "Epoch 16/20\n",
            "30/30 [==============================] - 1s 22ms/step - loss: 0.0309 - accuracy: 0.9947 - val_loss: 0.4670 - val_accuracy: 0.8739\n",
            "Epoch 17/20\n",
            "30/30 [==============================] - 1s 22ms/step - loss: 0.0273 - accuracy: 0.9942 - val_loss: 0.4895 - val_accuracy: 0.8725\n",
            "Epoch 18/20\n",
            "30/30 [==============================] - 1s 22ms/step - loss: 0.0233 - accuracy: 0.9954 - val_loss: 0.5162 - val_accuracy: 0.8750\n",
            "Epoch 19/20\n",
            "30/30 [==============================] - 1s 23ms/step - loss: 0.0157 - accuracy: 0.9984 - val_loss: 0.6047 - val_accuracy: 0.8554\n",
            "Epoch 20/20\n",
            "30/30 [==============================] - 1s 24ms/step - loss: 0.0175 - accuracy: 0.9972 - val_loss: 0.5703 - val_accuracy: 0.8707\n"
          ]
        }
      ]
    },
    {
      "cell_type": "code",
      "source": [
        "history_dict = history.history"
      ],
      "metadata": {
        "id": "q_e_3bxQPY_S"
      },
      "execution_count": 19,
      "outputs": []
    },
    {
      "cell_type": "code",
      "source": [
        "history_dict.keys()"
      ],
      "metadata": {
        "colab": {
          "base_uri": "https://localhost:8080/"
        },
        "id": "2bWyx3QbPh0G",
        "outputId": "091bf742-3c37-469a-c602-e378cd5aa3b9"
      },
      "execution_count": 20,
      "outputs": [
        {
          "output_type": "execute_result",
          "data": {
            "text/plain": [
              "dict_keys(['loss', 'accuracy', 'val_loss', 'val_accuracy'])"
            ]
          },
          "metadata": {},
          "execution_count": 20
        }
      ]
    },
    {
      "cell_type": "code",
      "source": [
        "import matplotlib.pyplot as plt\n",
        "history_dict = history.history\n",
        "loss_values = history_dict[\"loss\"]\n",
        "val_loss_values = history_dict[\"val_loss\"]\n",
        "epochs = range(1, len(loss_values) + 1)\n",
        "plt.plot(epochs, loss_values, \"bo\", label=\"Training loss\")\n",
        "plt.plot(epochs, val_loss_values, \"b\", label=\"Validation loss\")\n",
        "plt.title(\"Training and validation loss\")\n",
        "plt.xlabel(\"Epochs\")\n",
        "plt.ylabel(\"Loss\")\n",
        "plt.legend()\n",
        "plt.show()"
      ],
      "metadata": {
        "colab": {
          "base_uri": "https://localhost:8080/",
          "height": 472
        },
        "id": "_U1T2TAPPiwi",
        "outputId": "d7c99b2d-ccb6-4f53-c096-41636ca4b4ba"
      },
      "execution_count": 21,
      "outputs": [
        {
          "output_type": "display_data",
          "data": {
            "text/plain": [
              "<Figure size 640x480 with 1 Axes>"
            ],
            "image/png": "[encoded data removed]"
          },
          "metadata": {}
        }
      ]
    },
    {
      "cell_type": "code",
      "source": [
        "plt.clf()\n",
        "acc = history_dict[\"accuracy\"]\n",
        "val_acc = history_dict[\"val_accuracy\"]\n",
        "plt.plot(epochs, acc, \"bo\", label=\"Training acc\")\n",
        "plt.plot(epochs, val_acc, \"b\", label=\"Validation acc\")\n",
        "plt.title(\"Training and validation accuracy\")\n",
        "plt.xlabel(\"Epochs\")\n",
        "plt.ylabel(\"Accuracy\")\n",
        "plt.legend()\n",
        "plt.show()"
      ],
      "metadata": {
        "colab": {
          "base_uri": "https://localhost:8080/",
          "height": 472
        },
        "id": "ZKlzJPb1QK2S",
        "outputId": "53bacbf9-57de-4d66-e25c-50d9b8994397"
      },
      "execution_count": 22,
      "outputs": [
        {
          "output_type": "display_data",
          "data": {
            "text/plain": [
              "<Figure size 640x480 with 1 Axes>"
            ],
            "image/png": "[encoded data removed]"
          },
          "metadata": {}
        }
      ]
    },
    {
      "cell_type": "code",
      "source": [
        "results = model.evaluate(x_test, y_test)"
      ],
      "metadata": {
        "colab": {
          "base_uri": "https://localhost:8080/"
        },
        "id": "bDgov-MIQX2T",
        "outputId": "17aad051-8393-40e4-bce8-0a0917a7e1a7"
      },
      "execution_count": 23,
      "outputs": [
        {
          "output_type": "stream",
          "name": "stdout",
          "text": [
            "782/782 [==============================] - 2s 3ms/step - loss: 0.6162 - accuracy: 0.8606\n"
          ]
        }
      ]
    },
    {
      "cell_type": "code",
      "source": [
        "results"
      ],
      "metadata": {
        "colab": {
          "base_uri": "https://localhost:8080/"
        },
        "id": "WJ3Dduc3STJS",
        "outputId": "4a88637d-c292-4404-d343-e678f1762d32"
      },
      "execution_count": 24,
      "outputs": [
        {
          "output_type": "execute_result",
          "data": {
            "text/plain": [
              "[0.61615389585495, 0.8605999946594238]"
            ]
          },
          "metadata": {},
          "execution_count": 24
        }
      ]
    },
    {
      "cell_type": "code",
      "source": [
        "model.predict(x_test)"
      ],
      "metadata": {
        "colab": {
          "base_uri": "https://localhost:8080/"
        },
        "id": "VGEWIPzESZK6",
        "outputId": "02badac5-57bb-432e-85d3-5c48c307c00d"
      },
      "execution_count": 25,
      "outputs": [
        {
          "output_type": "stream",
          "name": "stdout",
          "text": [
            "782/782 [==============================] - 1s 2ms/step\n"
          ]
        },
        {
          "output_type": "execute_result",
          "data": {
            "text/plain": [
              "array([[0.02709923],\n",
              "       [0.9999999 ],\n",
              "       [0.9927759 ],\n",
              "       ...,\n",
              "       [0.00413937],\n",
              "       [0.02111001],\n",
              "       [0.97074145]], dtype=float32)"
            ]
          },
          "metadata": {},
          "execution_count": 25
        }
      ]
    },
    {
      "cell_type": "code",
      "source": [
        "model2=keras.Sequential([\n",
        "    layers.Dense(16,activation='relu'),\n",
        "    layers.Dense(16,activation='relu'),\n",
        "    layers.Dense(16,activation='relu'),\n",
        "    layers.Dense(1,activation='sigmoid')\n",
        "\n",
        "])\n",
        "model2.compile(optimizer='rmsprop',\n",
        "              loss='binary_crossentropy',\n",
        "              metrics=['accuracy'])\n",
        "history2 = model2.fit(partial_x_train,\n",
        "  partial_y_train,\n",
        "  epochs=30,\n",
        "  batch_size=512,\n",
        "  validation_data=(x_val, y_val))\n"
      ],
      "metadata": {
        "colab": {
          "base_uri": "https://localhost:8080/"
        },
        "id": "cMhTJQBOUMKK",
        "outputId": "ee5ebf04-403c-4bd5-d550-7d6ad2e2f8d6"
      },
      "execution_count": 31,
      "outputs": [
        {
          "output_type": "stream",
          "name": "stdout",
          "text": [
            "Epoch 1/30\n",
            "30/30 [==============================] - 3s 56ms/step - loss: 0.6015 - accuracy: 0.7100 - val_loss: 0.4835 - val_accuracy: 0.8493\n",
            "Epoch 2/30\n",
            "30/30 [==============================] - 1s 23ms/step - loss: 0.3942 - accuracy: 0.8753 - val_loss: 0.3562 - val_accuracy: 0.8742\n",
            "Epoch 3/30\n",
            "30/30 [==============================] - 1s 22ms/step - loss: 0.2855 - accuracy: 0.9075 - val_loss: 0.3014 - val_accuracy: 0.8826\n",
            "Epoch 4/30\n",
            "30/30 [==============================] - 1s 25ms/step - loss: 0.2241 - accuracy: 0.9252 - val_loss: 0.2801 - val_accuracy: 0.8868\n",
            "Epoch 5/30\n",
            "30/30 [==============================] - 1s 26ms/step - loss: 0.1843 - accuracy: 0.9385 - val_loss: 0.2881 - val_accuracy: 0.8848\n",
            "Epoch 6/30\n",
            "30/30 [==============================] - 1s 23ms/step - loss: 0.1539 - accuracy: 0.9487 - val_loss: 0.2831 - val_accuracy: 0.8862\n",
            "Epoch 7/30\n",
            "30/30 [==============================] - 1s 24ms/step - loss: 0.1312 - accuracy: 0.9571 - val_loss: 0.3005 - val_accuracy: 0.8837\n",
            "Epoch 8/30\n",
            "30/30 [==============================] - 1s 22ms/step - loss: 0.1108 - accuracy: 0.9666 - val_loss: 0.3136 - val_accuracy: 0.8806\n",
            "Epoch 9/30\n",
            "30/30 [==============================] - 1s 23ms/step - loss: 0.0944 - accuracy: 0.9719 - val_loss: 0.3452 - val_accuracy: 0.8754\n",
            "Epoch 10/30\n",
            "30/30 [==============================] - 1s 23ms/step - loss: 0.0830 - accuracy: 0.9756 - val_loss: 0.3464 - val_accuracy: 0.8804\n",
            "Epoch 11/30\n",
            "30/30 [==============================] - 1s 22ms/step - loss: 0.0679 - accuracy: 0.9819 - val_loss: 0.3831 - val_accuracy: 0.8746\n",
            "Epoch 12/30\n",
            "30/30 [==============================] - 1s 25ms/step - loss: 0.0614 - accuracy: 0.9840 - val_loss: 0.4240 - val_accuracy: 0.8676\n",
            "Epoch 13/30\n",
            "30/30 [==============================] - 1s 28ms/step - loss: 0.0471 - accuracy: 0.9886 - val_loss: 0.4669 - val_accuracy: 0.8642\n",
            "Epoch 14/30\n",
            "30/30 [==============================] - 1s 30ms/step - loss: 0.0396 - accuracy: 0.9915 - val_loss: 0.4674 - val_accuracy: 0.8668\n",
            "Epoch 15/30\n",
            "30/30 [==============================] - 1s 27ms/step - loss: 0.0354 - accuracy: 0.9927 - val_loss: 0.4817 - val_accuracy: 0.8687\n",
            "Epoch 16/30\n",
            "30/30 [==============================] - 1s 22ms/step - loss: 0.0305 - accuracy: 0.9933 - val_loss: 0.4890 - val_accuracy: 0.8740\n",
            "Epoch 17/30\n",
            "30/30 [==============================] - 1s 22ms/step - loss: 0.0304 - accuracy: 0.9927 - val_loss: 0.5257 - val_accuracy: 0.8690\n",
            "Epoch 18/30\n",
            "30/30 [==============================] - 1s 24ms/step - loss: 0.0146 - accuracy: 0.9987 - val_loss: 0.5578 - val_accuracy: 0.8664\n",
            "Epoch 19/30\n",
            "30/30 [==============================] - 1s 22ms/step - loss: 0.0192 - accuracy: 0.9958 - val_loss: 0.5735 - val_accuracy: 0.8704\n",
            "Epoch 20/30\n",
            "30/30 [==============================] - 1s 25ms/step - loss: 0.0198 - accuracy: 0.9948 - val_loss: 0.6009 - val_accuracy: 0.8705\n",
            "Epoch 21/30\n",
            "30/30 [==============================] - 1s 23ms/step - loss: 0.0072 - accuracy: 0.9995 - val_loss: 0.6259 - val_accuracy: 0.8707\n",
            "Epoch 22/30\n",
            "30/30 [==============================] - 1s 26ms/step - loss: 0.0161 - accuracy: 0.9951 - val_loss: 0.6532 - val_accuracy: 0.8699\n",
            "Epoch 23/30\n",
            "30/30 [==============================] - 1s 22ms/step - loss: 0.0048 - accuracy: 0.9997 - val_loss: 0.7001 - val_accuracy: 0.8647\n",
            "Epoch 24/30\n",
            "30/30 [==============================] - 1s 22ms/step - loss: 0.0101 - accuracy: 0.9975 - val_loss: 0.7121 - val_accuracy: 0.8667\n",
            "Epoch 25/30\n",
            "30/30 [==============================] - 1s 25ms/step - loss: 0.0033 - accuracy: 0.9998 - val_loss: 0.7484 - val_accuracy: 0.8659\n",
            "Epoch 26/30\n",
            "30/30 [==============================] - 1s 24ms/step - loss: 0.0145 - accuracy: 0.9952 - val_loss: 0.7664 - val_accuracy: 0.8683\n",
            "Epoch 27/30\n",
            "30/30 [==============================] - 1s 26ms/step - loss: 0.0024 - accuracy: 0.9998 - val_loss: 0.7761 - val_accuracy: 0.8666\n",
            "Epoch 28/30\n",
            "30/30 [==============================] - 1s 23ms/step - loss: 0.0041 - accuracy: 0.9989 - val_loss: 0.9823 - val_accuracy: 0.8488\n",
            "Epoch 29/30\n",
            "30/30 [==============================] - 1s 25ms/step - loss: 0.0044 - accuracy: 0.9988 - val_loss: 0.8168 - val_accuracy: 0.8674\n",
            "Epoch 30/30\n",
            "30/30 [==============================] - 1s 42ms/step - loss: 0.0017 - accuracy: 0.9998 - val_loss: 0.8341 - val_accuracy: 0.8670\n"
          ]
        }
      ]
    },
    {
      "cell_type": "code",
      "source": [
        "history_dict2 = history2.history\n",
        "acc = history_dict2[\"accuracy\"]\n",
        "val_acc = history_dict2[\"val_accuracy\"]\n",
        "loss_values = history_dict2[\"loss\"]\n",
        "val_loss_values = history_dict2[\"val_loss\"]\n",
        "epochs = range(1, len(loss_values) + 1)\n",
        "plt.plot(epochs, acc, \"bo\", label=\"Training acc\")\n",
        "plt.plot(epochs, val_acc, \"b\", label=\"Validation acc\")\n",
        "plt.title(\"Training and validation accuracy\")\n",
        "plt.xlabel(\"Epochs\")\n",
        "plt.ylabel(\"Accuracy\")\n",
        "plt.legend()\n",
        "plt.show()"
      ],
      "metadata": {
        "colab": {
          "base_uri": "https://localhost:8080/",
          "height": 472
        },
        "id": "NBOJoho0UyKA",
        "outputId": "08f0f250-9dc5-477a-8b19-4a6b815d18ef"
      },
      "execution_count": 34,
      "outputs": [
        {
          "output_type": "display_data",
          "data": {
            "text/plain": [
              "<Figure size 640x480 with 1 Axes>"
            ],
            "image/png": "[encoded data removed]"
          },
          "metadata": {}
        }
      ]
    }
  ],
  "metadata": {
    "accelerator": "GPU",
    "colab": {
      "provenance": []
    },
    "kernelspec": {
      "display_name": "Python 3",
      "name": "python3"
    },
    "language_info": {
      "name": "python"
    }
  },
  "nbformat": 4,
  "nbformat_minor": 0
}